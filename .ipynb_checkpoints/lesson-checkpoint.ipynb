{
 "cells": [
  {
   "cell_type": "code",
   "execution_count": 13,
   "metadata": {},
   "outputs": [],
   "source": [
    "from bs4 import BeautifulSoup\n",
    "import requests\n",
    "from selenium import webdriver\n",
    "from selenium.webdriver.common.by import By\n",
    "from selenium.webdriver.chrome.options import Options\n",
    "from selenium.webdriver.support import expected_conditions as ES\n",
    "from selenium.webdriver.support.ui import WebDriverWait\n",
    "from fake_useragent import UserAgent\n",
    "import time\n",
    "import pandas as pd\n",
    "import lxml"
   ]
  },
  {
   "cell_type": "code",
   "execution_count": 2,
   "metadata": {},
   "outputs": [],
   "source": [
    "url = 'https://parsinger.ru/html/index4_page_1.html'"
   ]
  },
  {
   "cell_type": "code",
   "execution_count": 5,
   "metadata": {},
   "outputs": [
    {
     "ename": "NoSuchElementException",
     "evalue": "Message: no such element: Unable to locate element: {\"method\":\"css selector\",\"selector\":\"[id=\"sale_button\"]\"}\n  (Session info: chrome=113.0.5672.127)\nStacktrace:\nBacktrace:\n\tGetHandleVerifier [0x007E8893+48451]\n\t(No symbol) [0x0077B8A1]\n\t(No symbol) [0x00685058]\n\t(No symbol) [0x006B0467]\n\t(No symbol) [0x006B069B]\n\t(No symbol) [0x006DDD92]\n\t(No symbol) [0x006CA304]\n\t(No symbol) [0x006DC482]\n\t(No symbol) [0x006CA0B6]\n\t(No symbol) [0x006A7E08]\n\t(No symbol) [0x006A8F2D]\n\tGetHandleVerifier [0x00A48E3A+2540266]\n\tGetHandleVerifier [0x00A88959+2801161]\n\tGetHandleVerifier [0x00A8295C+2776588]\n\tGetHandleVerifier [0x00872280+612144]\n\t(No symbol) [0x00784F6C]\n\t(No symbol) [0x007811D8]\n\t(No symbol) [0x007812BB]\n\t(No symbol) [0x00774857]\n\tBaseThreadInitThunk [0x76527D59+25]\n\tRtlInitializeExceptionChain [0x77D4B74B+107]\n\tRtlClearBits [0x77D4B6CF+191]\n",
     "output_type": "error",
     "traceback": [
      "\u001b[1;31m---------------------------------------------------------------------------\u001b[0m",
      "\u001b[1;31mNoSuchElementException\u001b[0m                    Traceback (most recent call last)",
      "Cell \u001b[1;32mIn[5], line 4\u001b[0m\n\u001b[0;32m      1\u001b[0m \u001b[39mwith\u001b[39;00m webdriver\u001b[39m.\u001b[39mChrome() \u001b[39mas\u001b[39;00m browser:\n\u001b[0;32m      2\u001b[0m     browser\u001b[39m.\u001b[39mget(url\u001b[39m=\u001b[39murl)\n\u001b[1;32m----> 4\u001b[0m     button \u001b[39m=\u001b[39m browser\u001b[39m.\u001b[39;49mfind_element(By\u001b[39m.\u001b[39;49mID, \u001b[39m'\u001b[39;49m\u001b[39msale_button\u001b[39;49m\u001b[39m'\u001b[39;49m)\u001b[39m.\u001b[39mclick()\n",
      "File \u001b[1;32mc:\\Users\\alizg\\AppData\\Local\\Programs\\Python\\Python311\\Lib\\site-packages\\selenium\\webdriver\\remote\\webdriver.py:831\u001b[0m, in \u001b[0;36mWebDriver.find_element\u001b[1;34m(self, by, value)\u001b[0m\n\u001b[0;32m    828\u001b[0m     by \u001b[39m=\u001b[39m By\u001b[39m.\u001b[39mCSS_SELECTOR\n\u001b[0;32m    829\u001b[0m     value \u001b[39m=\u001b[39m \u001b[39mf\u001b[39m\u001b[39m'\u001b[39m\u001b[39m[name=\u001b[39m\u001b[39m\"\u001b[39m\u001b[39m{\u001b[39;00mvalue\u001b[39m}\u001b[39;00m\u001b[39m\"\u001b[39m\u001b[39m]\u001b[39m\u001b[39m'\u001b[39m\n\u001b[1;32m--> 831\u001b[0m \u001b[39mreturn\u001b[39;00m \u001b[39mself\u001b[39;49m\u001b[39m.\u001b[39;49mexecute(Command\u001b[39m.\u001b[39;49mFIND_ELEMENT, {\u001b[39m\"\u001b[39;49m\u001b[39musing\u001b[39;49m\u001b[39m\"\u001b[39;49m: by, \u001b[39m\"\u001b[39;49m\u001b[39mvalue\u001b[39;49m\u001b[39m\"\u001b[39;49m: value})[\u001b[39m\"\u001b[39m\u001b[39mvalue\u001b[39m\u001b[39m\"\u001b[39m]\n",
      "File \u001b[1;32mc:\\Users\\alizg\\AppData\\Local\\Programs\\Python\\Python311\\Lib\\site-packages\\selenium\\webdriver\\remote\\webdriver.py:440\u001b[0m, in \u001b[0;36mWebDriver.execute\u001b[1;34m(self, driver_command, params)\u001b[0m\n\u001b[0;32m    438\u001b[0m response \u001b[39m=\u001b[39m \u001b[39mself\u001b[39m\u001b[39m.\u001b[39mcommand_executor\u001b[39m.\u001b[39mexecute(driver_command, params)\n\u001b[0;32m    439\u001b[0m \u001b[39mif\u001b[39;00m response:\n\u001b[1;32m--> 440\u001b[0m     \u001b[39mself\u001b[39;49m\u001b[39m.\u001b[39;49merror_handler\u001b[39m.\u001b[39;49mcheck_response(response)\n\u001b[0;32m    441\u001b[0m     response[\u001b[39m\"\u001b[39m\u001b[39mvalue\u001b[39m\u001b[39m\"\u001b[39m] \u001b[39m=\u001b[39m \u001b[39mself\u001b[39m\u001b[39m.\u001b[39m_unwrap_value(response\u001b[39m.\u001b[39mget(\u001b[39m\"\u001b[39m\u001b[39mvalue\u001b[39m\u001b[39m\"\u001b[39m, \u001b[39mNone\u001b[39;00m))\n\u001b[0;32m    442\u001b[0m     \u001b[39mreturn\u001b[39;00m response\n",
      "File \u001b[1;32mc:\\Users\\alizg\\AppData\\Local\\Programs\\Python\\Python311\\Lib\\site-packages\\selenium\\webdriver\\remote\\errorhandler.py:245\u001b[0m, in \u001b[0;36mErrorHandler.check_response\u001b[1;34m(self, response)\u001b[0m\n\u001b[0;32m    243\u001b[0m         alert_text \u001b[39m=\u001b[39m value[\u001b[39m\"\u001b[39m\u001b[39malert\u001b[39m\u001b[39m\"\u001b[39m]\u001b[39m.\u001b[39mget(\u001b[39m\"\u001b[39m\u001b[39mtext\u001b[39m\u001b[39m\"\u001b[39m)\n\u001b[0;32m    244\u001b[0m     \u001b[39mraise\u001b[39;00m exception_class(message, screen, stacktrace, alert_text)  \u001b[39m# type: ignore[call-arg]  # mypy is not smart enough here\u001b[39;00m\n\u001b[1;32m--> 245\u001b[0m \u001b[39mraise\u001b[39;00m exception_class(message, screen, stacktrace)\n",
      "\u001b[1;31mNoSuchElementException\u001b[0m: Message: no such element: Unable to locate element: {\"method\":\"css selector\",\"selector\":\"[id=\"sale_button\"]\"}\n  (Session info: chrome=113.0.5672.127)\nStacktrace:\nBacktrace:\n\tGetHandleVerifier [0x007E8893+48451]\n\t(No symbol) [0x0077B8A1]\n\t(No symbol) [0x00685058]\n\t(No symbol) [0x006B0467]\n\t(No symbol) [0x006B069B]\n\t(No symbol) [0x006DDD92]\n\t(No symbol) [0x006CA304]\n\t(No symbol) [0x006DC482]\n\t(No symbol) [0x006CA0B6]\n\t(No symbol) [0x006A7E08]\n\t(No symbol) [0x006A8F2D]\n\tGetHandleVerifier [0x00A48E3A+2540266]\n\tGetHandleVerifier [0x00A88959+2801161]\n\tGetHandleVerifier [0x00A8295C+2776588]\n\tGetHandleVerifier [0x00872280+612144]\n\t(No symbol) [0x00784F6C]\n\t(No symbol) [0x007811D8]\n\t(No symbol) [0x007812BB]\n\t(No symbol) [0x00774857]\n\tBaseThreadInitThunk [0x76527D59+25]\n\tRtlInitializeExceptionChain [0x77D4B74B+107]\n\tRtlClearBits [0x77D4B6CF+191]\n"
     ]
    }
   ],
   "source": [
    "with webdriver.Chrome() as browser:\n",
    "    browser.get(url=url)\n",
    "\n",
    "    button = browser.find_element(By.ID, 'sale_button').click()\n",
    "\n",
    "\n",
    "\n",
    "\n"
   ]
  },
  {
   "cell_type": "code",
   "execution_count": 7,
   "metadata": {},
   "outputs": [
    {
     "ename": "NoSuchElementException",
     "evalue": "Message: no such element: Unable to locate element: {\"method\":\"css selector\",\"selector\":\"[name=\"4_1\"]\"}\n  (Session info: chrome=113.0.5672.127)\nStacktrace:\nBacktrace:\n\tGetHandleVerifier [0x007E8893+48451]\n\t(No symbol) [0x0077B8A1]\n\t(No symbol) [0x00685058]\n\t(No symbol) [0x006B0467]\n\t(No symbol) [0x006B069B]\n\t(No symbol) [0x006DDD92]\n\t(No symbol) [0x006CA304]\n\t(No symbol) [0x006DC482]\n\t(No symbol) [0x006CA0B6]\n\t(No symbol) [0x006A7E08]\n\t(No symbol) [0x006A8F2D]\n\tGetHandleVerifier [0x00A48E3A+2540266]\n\tGetHandleVerifier [0x00A88959+2801161]\n\tGetHandleVerifier [0x00A8295C+2776588]\n\tGetHandleVerifier [0x00872280+612144]\n\t(No symbol) [0x00784F6C]\n\t(No symbol) [0x007811D8]\n\t(No symbol) [0x007812BB]\n\t(No symbol) [0x00774857]\n\tBaseThreadInitThunk [0x76527D59+25]\n\tRtlInitializeExceptionChain [0x77D4B74B+107]\n\tRtlClearBits [0x77D4B6CF+191]\n",
     "output_type": "error",
     "traceback": [
      "\u001b[1;31m---------------------------------------------------------------------------\u001b[0m",
      "\u001b[1;31mNoSuchElementException\u001b[0m                    Traceback (most recent call last)",
      "Cell \u001b[1;32mIn[7], line 7\u001b[0m\n\u001b[0;32m      4\u001b[0m     browser \u001b[39m=\u001b[39m webdriver\u001b[39m.\u001b[39mChrome()\n\u001b[0;32m      5\u001b[0m     browser\u001b[39m.\u001b[39mget(\u001b[39m'\u001b[39m\u001b[39mhttps://parsinger.ru/html/hdd/4/4_17.html\u001b[39m\u001b[39m'\u001b[39m)\n\u001b[1;32m----> 7\u001b[0m     t \u001b[39m=\u001b[39m browser\u001b[39m.\u001b[39;49mfind_element(By\u001b[39m.\u001b[39;49mNAME, \u001b[39m'\u001b[39;49m\u001b[39m4_1\u001b[39;49m\u001b[39m'\u001b[39;49m)\n\u001b[0;32m      8\u001b[0m     \u001b[39mprint\u001b[39m(t)\n\u001b[0;32m     10\u001b[0m \u001b[39mfinally\u001b[39;00m:\n",
      "File \u001b[1;32mc:\\Users\\alizg\\AppData\\Local\\Programs\\Python\\Python311\\Lib\\site-packages\\selenium\\webdriver\\remote\\webdriver.py:831\u001b[0m, in \u001b[0;36mWebDriver.find_element\u001b[1;34m(self, by, value)\u001b[0m\n\u001b[0;32m    828\u001b[0m     by \u001b[39m=\u001b[39m By\u001b[39m.\u001b[39mCSS_SELECTOR\n\u001b[0;32m    829\u001b[0m     value \u001b[39m=\u001b[39m \u001b[39mf\u001b[39m\u001b[39m'\u001b[39m\u001b[39m[name=\u001b[39m\u001b[39m\"\u001b[39m\u001b[39m{\u001b[39;00mvalue\u001b[39m}\u001b[39;00m\u001b[39m\"\u001b[39m\u001b[39m]\u001b[39m\u001b[39m'\u001b[39m\n\u001b[1;32m--> 831\u001b[0m \u001b[39mreturn\u001b[39;00m \u001b[39mself\u001b[39;49m\u001b[39m.\u001b[39;49mexecute(Command\u001b[39m.\u001b[39;49mFIND_ELEMENT, {\u001b[39m\"\u001b[39;49m\u001b[39musing\u001b[39;49m\u001b[39m\"\u001b[39;49m: by, \u001b[39m\"\u001b[39;49m\u001b[39mvalue\u001b[39;49m\u001b[39m\"\u001b[39;49m: value})[\u001b[39m\"\u001b[39m\u001b[39mvalue\u001b[39m\u001b[39m\"\u001b[39m]\n",
      "File \u001b[1;32mc:\\Users\\alizg\\AppData\\Local\\Programs\\Python\\Python311\\Lib\\site-packages\\selenium\\webdriver\\remote\\webdriver.py:440\u001b[0m, in \u001b[0;36mWebDriver.execute\u001b[1;34m(self, driver_command, params)\u001b[0m\n\u001b[0;32m    438\u001b[0m response \u001b[39m=\u001b[39m \u001b[39mself\u001b[39m\u001b[39m.\u001b[39mcommand_executor\u001b[39m.\u001b[39mexecute(driver_command, params)\n\u001b[0;32m    439\u001b[0m \u001b[39mif\u001b[39;00m response:\n\u001b[1;32m--> 440\u001b[0m     \u001b[39mself\u001b[39;49m\u001b[39m.\u001b[39;49merror_handler\u001b[39m.\u001b[39;49mcheck_response(response)\n\u001b[0;32m    441\u001b[0m     response[\u001b[39m\"\u001b[39m\u001b[39mvalue\u001b[39m\u001b[39m\"\u001b[39m] \u001b[39m=\u001b[39m \u001b[39mself\u001b[39m\u001b[39m.\u001b[39m_unwrap_value(response\u001b[39m.\u001b[39mget(\u001b[39m\"\u001b[39m\u001b[39mvalue\u001b[39m\u001b[39m\"\u001b[39m, \u001b[39mNone\u001b[39;00m))\n\u001b[0;32m    442\u001b[0m     \u001b[39mreturn\u001b[39;00m response\n",
      "File \u001b[1;32mc:\\Users\\alizg\\AppData\\Local\\Programs\\Python\\Python311\\Lib\\site-packages\\selenium\\webdriver\\remote\\errorhandler.py:245\u001b[0m, in \u001b[0;36mErrorHandler.check_response\u001b[1;34m(self, response)\u001b[0m\n\u001b[0;32m    243\u001b[0m         alert_text \u001b[39m=\u001b[39m value[\u001b[39m\"\u001b[39m\u001b[39malert\u001b[39m\u001b[39m\"\u001b[39m]\u001b[39m.\u001b[39mget(\u001b[39m\"\u001b[39m\u001b[39mtext\u001b[39m\u001b[39m\"\u001b[39m)\n\u001b[0;32m    244\u001b[0m     \u001b[39mraise\u001b[39;00m exception_class(message, screen, stacktrace, alert_text)  \u001b[39m# type: ignore[call-arg]  # mypy is not smart enough here\u001b[39;00m\n\u001b[1;32m--> 245\u001b[0m \u001b[39mraise\u001b[39;00m exception_class(message, screen, stacktrace)\n",
      "\u001b[1;31mNoSuchElementException\u001b[0m: Message: no such element: Unable to locate element: {\"method\":\"css selector\",\"selector\":\"[name=\"4_1\"]\"}\n  (Session info: chrome=113.0.5672.127)\nStacktrace:\nBacktrace:\n\tGetHandleVerifier [0x007E8893+48451]\n\t(No symbol) [0x0077B8A1]\n\t(No symbol) [0x00685058]\n\t(No symbol) [0x006B0467]\n\t(No symbol) [0x006B069B]\n\t(No symbol) [0x006DDD92]\n\t(No symbol) [0x006CA304]\n\t(No symbol) [0x006DC482]\n\t(No symbol) [0x006CA0B6]\n\t(No symbol) [0x006A7E08]\n\t(No symbol) [0x006A8F2D]\n\tGetHandleVerifier [0x00A48E3A+2540266]\n\tGetHandleVerifier [0x00A88959+2801161]\n\tGetHandleVerifier [0x00A8295C+2776588]\n\tGetHandleVerifier [0x00872280+612144]\n\t(No symbol) [0x00784F6C]\n\t(No symbol) [0x007811D8]\n\t(No symbol) [0x007812BB]\n\t(No symbol) [0x00774857]\n\tBaseThreadInitThunk [0x76527D59+25]\n\tRtlInitializeExceptionChain [0x77D4B74B+107]\n\tRtlClearBits [0x77D4B6CF+191]\n"
     ]
    }
   ],
   "source": [
    "try:\n",
    "    options = Options()\n",
    "    options.add_argument('--headless')\n",
    "    browser = webdriver.Chrome()\n",
    "    browser.get('https://parsinger.ru/html/hdd/4/4_17.html')\n",
    "    \n",
    "    t = browser.find_element(By.NAME, '4_1')\n",
    "    print(t)\n",
    "\n",
    "finally:\n",
    "    browser.quit()    "
   ]
  },
  {
   "cell_type": "code",
   "execution_count": 8,
   "metadata": {},
   "outputs": [
    {
     "name": "stdout",
     "output_type": "stream",
     "text": [
      "12240 руб\n"
     ]
    }
   ],
   "source": [
    "try:\n",
    "    options = Options()\n",
    "    options.add_argument('--headless')\n",
    "    browser = webdriver.Chrome(options=options)\n",
    "    browser.get('https://parsinger.ru/html/index4_page_1.html')\n",
    "    \n",
    "    t = browser.find_element(By.CSS_SELECTOR, '.container .price_box p')\n",
    "    print(t.text)\n",
    "\n",
    "finally:\n",
    "    browser.quit() "
   ]
  },
  {
   "cell_type": "code",
   "execution_count": 9,
   "metadata": {},
   "outputs": [
    {
     "name": "stdout",
     "output_type": "stream",
     "text": [
      "Материал корпуса: пластик\n"
     ]
    }
   ],
   "source": [
    "try:\n",
    "    options = Options()\n",
    "    options.add_argument('--headless')\n",
    "    browser = webdriver.Chrome(options=options)\n",
    "    browser.get('https://parsinger.ru/html/watch/1/1_1.html')\n",
    "    \n",
    "    t = browser.find_element(By.XPATH, '//li[contains(@id, \"material\")]')\n",
    "    print(t.text)\n",
    "\n",
    "finally:\n",
    "    browser.quit() "
   ]
  },
  {
   "cell_type": "code",
   "execution_count": 10,
   "metadata": {},
   "outputs": [
    {
     "name": "stdout",
     "output_type": "stream",
     "text": [
      "Материал корпуса: пластик\n"
     ]
    }
   ],
   "source": [
    "try:\n",
    "    options = Options()\n",
    "    options.add_argument('--headless')\n",
    "    browser = webdriver.Chrome(options=options)\n",
    "    browser.get('https://parsinger.ru/html/watch/1/1_1.html')\n",
    "    \n",
    "    t = browser.find_element(By.XPATH, '//li[contains(@id, \"material_frame\")]')\n",
    "    print(t.text)\n",
    "\n",
    "finally:\n",
    "    browser.quit() "
   ]
  },
  {
   "cell_type": "code",
   "execution_count": 11,
   "metadata": {},
   "outputs": [
    {
     "name": "stdout",
     "output_type": "stream",
     "text": [
      "191817\n",
      "121314\n",
      "151715\n"
     ]
    }
   ],
   "source": [
    "from selenium import webdriver\n",
    "from selenium.webdriver.common.by import By\n",
    "url = 'http://parsinger.ru/selenium/3/3.html'\n",
    "with webdriver.Chrome() as browser:\n",
    "    browser.get(url)\n",
    "    link = browser.find_element(By.CLASS_NAME, 'text')\n",
    "    print(link.text)\n"
   ]
  },
  {
   "cell_type": "code",
   "execution_count": 14,
   "metadata": {},
   "outputs": [
    {
     "name": "stdout",
     "output_type": "stream",
     "text": [
      "  |  Нийт бичлэг: 44\n"
     ]
    }
   ],
   "source": [
    "from selenium import webdriver\n",
    "from selenium.webdriver.common.by import By\n",
    "url = 'https://www.tender.gov.mn/mn/bidder/entity/1550046207732'\n",
    "with webdriver.Chrome() as browser:\n",
    "    browser.get(url)\n",
    "    try:\n",
    "        link = WebDriverWait(browser, 10).until(\n",
    "            ES.presence_of_element_located((By.XPATH, '//div/*[@class=\"dataTables_info\"]'))\n",
    "        )\n",
    "        print(link.text)\n",
    "    finally:\n",
    "        browser.quit()"
   ]
  },
  {
   "cell_type": "code",
   "execution_count": null,
   "metadata": {},
   "outputs": [],
   "source": []
  }
 ],
 "metadata": {
  "kernelspec": {
   "display_name": "Python 3",
   "language": "python",
   "name": "python3"
  },
  "language_info": {
   "codemirror_mode": {
    "name": "ipython",
    "version": 3
   },
   "file_extension": ".py",
   "mimetype": "text/x-python",
   "name": "python",
   "nbconvert_exporter": "python",
   "pygments_lexer": "ipython3",
   "version": "3.11.2"
  },
  "orig_nbformat": 4
 },
 "nbformat": 4,
 "nbformat_minor": 2
}
